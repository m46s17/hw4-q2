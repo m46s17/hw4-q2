{
 "cells": [
  {
   "cell_type": "markdown",
   "metadata": {
    "collapsed": true
   },
   "source": [
    "Two-term perturbation approximation: $$e^{-t}+ \\epsilon(-\\dfrac{e^t}{8}+\\dfrac{e^{-t}}{8}+\\dfrac{t}{4}e^{-t}-\\dfrac{t^2}{4}e^{-t})$$\n",
    "\n",
    "Six-term Taylor approximation: $$1-t+\\dfrac{t^2}{2}+\\dfrac{ \\epsilon-1}{6}t^3+\\dfrac{1-2\\epsilon}{24}t^4+\\dfrac{4\\epsilon-1}{120}t^5$$"
   ]
  },
  {
   "cell_type": "code",
   "execution_count": null,
   "metadata": {},
   "outputs": [],
   "source": [
    ""
   ]
  }
 ],
 "metadata": {
  "kernelspec": {
   "display_name": "Python 2",
   "language": "python",
   "name": "python2"
  },
  "language_info": {
   "codemirror_mode": {
    "name": "ipython",
    "version": 2.0
   },
   "file_extension": ".py",
   "mimetype": "text/x-python",
   "name": "python",
   "nbconvert_exporter": "python",
   "pygments_lexer": "ipython2",
   "version": "2.7.6"
  }
 },
 "nbformat": 4,
 "nbformat_minor": 0
}